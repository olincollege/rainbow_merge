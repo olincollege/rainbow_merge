{
 "cells": [
  {
   "cell_type": "code",
   "execution_count": 16,
   "metadata": {},
   "outputs": [
    {
     "ename": "FileNotFoundError",
     "evalue": "No file 'visuals/animals.jpg' found in working directory '/home/wyoung/animal_merger'.",
     "output_type": "error",
     "traceback": [
      "\u001b[0;31m---------------------------------------------------------------------------\u001b[0m",
      "\u001b[0;31mFileNotFoundError\u001b[0m                         Traceback (most recent call last)",
      "Cell \u001b[0;32mIn[16], line 23\u001b[0m\n\u001b[1;32m     20\u001b[0m screen\u001b[38;5;241m.\u001b[39mfill(background_color)\n\u001b[1;32m     21\u001b[0m pygame\u001b[38;5;241m.\u001b[39mdisplay\u001b[38;5;241m.\u001b[39mset_caption(\u001b[38;5;124m\"\u001b[39m\u001b[38;5;124mAnimal Merger\u001b[39m\u001b[38;5;124m\"\u001b[39m)\n\u001b[0;32m---> 23\u001b[0m ground_surface \u001b[38;5;241m=\u001b[39m pygame\u001b[38;5;241m.\u001b[39mimage\u001b[38;5;241m.\u001b[39mload(\u001b[38;5;124m\"\u001b[39m\u001b[38;5;124mvisuals/animals.jpg\u001b[39m\u001b[38;5;124m\"\u001b[39m)\n\u001b[1;32m     25\u001b[0m \u001b[38;5;28;01mwhile\u001b[39;00m \u001b[38;5;28;01mTrue\u001b[39;00m:\n\u001b[1;32m     26\u001b[0m     \u001b[38;5;28;01mfor\u001b[39;00m event \u001b[38;5;129;01min\u001b[39;00m pygame\u001b[38;5;241m.\u001b[39mevent\u001b[38;5;241m.\u001b[39mget():\n",
      "\u001b[0;31mFileNotFoundError\u001b[0m: No file 'visuals/animals.jpg' found in working directory '/home/wyoung/animal_merger'."
     ]
    }
   ],
   "source": [
    "import pygame\n",
    "from pygame.locals import *\n",
    "\n",
    "\n",
    "pygame.init()\n",
    "\n",
    "class Board:\n",
    "    def __init__(self):\n",
    "        board_pos = (100, 100)#\n",
    "        max_height = 300\n",
    "        # restart_button_pos = #\n",
    "        # pause_button_pos = #\n",
    "\n",
    "    def __repr__(self): # do we need this? i think we do\n",
    "        pass\n",
    "\n",
    "background_color = pygame.Color(227, 216, 152)\n",
    "\t\n",
    "screen = pygame.display.set_mode((500,800))\n",
    "screen.fill(background_color)\n",
    "pygame.display.set_caption(\"Animal Merger\")\n",
    "\n",
    "ground_surface = pygame.image.load(\"visuals/animals.jpg\")\n",
    "\n",
    "while True:\n",
    "    for event in pygame.event.get():\n",
    "        if event.type == QUIT:\n",
    "            pygame.quit()\n",
    "            break\n",
    "    pygame.display.update()\n",
    "    screen.blit(ground_surface,(0,700))\n",
    "    pygame.draw.rect(screen, pygame.Color(255, 0, 0), pygame.Rect(0, 100, 500, 1))"
   ]
  },
  {
   "cell_type": "code",
   "execution_count": 18,
   "metadata": {},
   "outputs": [
    {
     "ename": "error",
     "evalue": "video system not initialized",
     "output_type": "error",
     "traceback": [
      "\u001b[0;31m---------------------------------------------------------------------------\u001b[0m",
      "\u001b[0;31merror\u001b[0m                                     Traceback (most recent call last)",
      "Cell \u001b[0;32mIn[18], line 51\u001b[0m\n\u001b[1;32m     49\u001b[0m         pygame\u001b[38;5;241m.\u001b[39mquit()\n\u001b[1;32m     50\u001b[0m         \u001b[38;5;28;01mbreak\u001b[39;00m\n\u001b[0;32m---> 51\u001b[0m pygame\u001b[38;5;241m.\u001b[39mdisplay\u001b[38;5;241m.\u001b[39mupdate()\n\u001b[1;32m     52\u001b[0m x\u001b[38;5;241m.\u001b[39mdraw_board(x\u001b[38;5;241m.\u001b[39msubgame_board)\n",
      "\u001b[0;31merror\u001b[0m: video system not initialized"
     ]
    }
   ],
   "source": [
    "import pygame\n",
    "from pygame.locals import *\n",
    "\n",
    "import random\n",
    "\n",
    "from board import Board\n",
    "\n",
    "pygame.init()\n",
    "\n",
    "class Subgame:\n",
    "    # this function is to define the characters of the screen of one player\n",
    "    def __init__(self):\n",
    "        self.dimensions = (500, 800)\n",
    "        self.background_color = pygame.Color(227, 216, 152)\n",
    "        self.subgame_board = Board()\n",
    "        self.score = 0\n",
    "        self.framerate = 30\n",
    "        self.can_use_superpower = False\n",
    "        self.drop_speed = 0.5  # drops per second\n",
    "        self.current_animal = random.randrange(3) + 1  # random animal 1-4\n",
    "        self.next_animal = random.randrange(3) + 1  # random animal 1-4\n",
    "        self.timer = pygame.time.Clock()  #\n",
    "        self.initialize_board()\n",
    "        self.draw_board(self.subgame_board)\n",
    "\n",
    "    def initialize_board(self):\n",
    "        \"\"\"Creates a blank screen on which the board is drawn.\"\"\"\n",
    "        # Draw blank board\n",
    "        self.screen = pygame.display.set_mode(self.dimensions)\n",
    "        self.screen.fill(self.background_color)\n",
    "        pygame.display.set_caption(\"Animal Merger\")\n",
    "\n",
    "    def draw_board(self, board):\n",
    "        \"\"\"Draws the board.\"\"\"\n",
    "        # Draw ground\n",
    "        self.screen.blit(pygame.image.load(\"visuals/ground.jpg\"), board.ground_pos)\n",
    "        # Draw failure line\n",
    "        pygame.draw.rect(\n",
    "            self.screen,\n",
    "            pygame.Color(255, 0, 0),\n",
    "            pygame.Rect(0, board.max_height, 500, 1),\n",
    "        )\n",
    "\n",
    "x = Subgame()\n",
    "\n",
    "while True:\n",
    "    for event in pygame.event.get():\n",
    "        if event.type == QUIT:\n",
    "            pygame.quit()\n",
    "            break\n",
    "    pygame.display.update()\n",
    "    x.draw_board(x.subgame_board)\n"
   ]
  }
 ],
 "metadata": {
  "kernelspec": {
   "display_name": "base",
   "language": "python",
   "name": "python3"
  },
  "language_info": {
   "codemirror_mode": {
    "name": "ipython",
    "version": 3
   },
   "file_extension": ".py",
   "mimetype": "text/x-python",
   "name": "python",
   "nbconvert_exporter": "python",
   "pygments_lexer": "ipython3",
   "version": "3.11.5"
  }
 },
 "nbformat": 4,
 "nbformat_minor": 2
}
